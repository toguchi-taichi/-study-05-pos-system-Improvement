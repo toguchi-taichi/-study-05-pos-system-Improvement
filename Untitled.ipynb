{
 "cells": [
  {
   "cell_type": "code",
   "execution_count": 19,
   "metadata": {},
   "outputs": [
    {
     "name": "stdout",
     "output_type": "stream",
     "text": [
      "------- マスタ登録開始 ---------\n",
      "りんご(001)\n",
      "なし(002)\n",
      "みかん(003)\n",
      "3品の登録を完了しました。\n",
      "------- マスタ登録完了 ---------\n"
     ]
    }
   ],
   "source": [
    "! python pos_main.py"
   ]
  },
  {
   "cell_type": "code",
   "execution_count": 16,
   "metadata": {},
   "outputs": [
    {
     "name": "stdout",
     "output_type": "stream",
     "text": [
      "index.html\n"
     ]
    }
   ],
   "source": [
    "! ls html"
   ]
  },
  {
   "cell_type": "code",
   "execution_count": 20,
   "metadata": {},
   "outputs": [
    {
     "name": "stdout",
     "output_type": "stream",
     "text": [
      "Untitled.ipynb \u001b[34mcss\u001b[m\u001b[m            \u001b[34mhtml\u001b[m\u001b[m           \u001b[34mlog\u001b[m\u001b[m            pos_main.py\n",
      "\u001b[34m__pycache__\u001b[m\u001b[m    desktop.py     item_order.py  masta.csv      \u001b[34mreceipt\u001b[m\u001b[m\n"
     ]
    }
   ],
   "source": [
    "! ls"
   ]
  },
  {
   "cell_type": "code",
   "execution_count": null,
   "metadata": {},
   "outputs": [],
   "source": []
  }
 ],
 "metadata": {
  "kernelspec": {
   "display_name": "Python 3",
   "language": "python",
   "name": "python3"
  },
  "language_info": {
   "codemirror_mode": {
    "name": "ipython",
    "version": 3
   },
   "file_extension": ".py",
   "mimetype": "text/x-python",
   "name": "python",
   "nbconvert_exporter": "python",
   "pygments_lexer": "ipython3",
   "version": "3.7.6"
  }
 },
 "nbformat": 4,
 "nbformat_minor": 4
}
